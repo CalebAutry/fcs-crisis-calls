{
 "cells": [
  {
   "cell_type": "code",
   "execution_count": null,
   "metadata": {},
   "outputs": [],
   "source": [
    "import pandas as pd\n",
    "import matplotlib.pyplot as plt\n",
    "import seaborn as sns\n",
    "from collections import Counter\n",
    "import collections\n",
    "from numpy import nan\n",
    "import numpy as np\n",
    "\n",
    "%matplotlib inline"
   ]
  },
  {
   "cell_type": "code",
   "execution_count": null,
   "metadata": {},
   "outputs": [],
   "source": [
    "fcs_df = pd.read_csv('../data/Crisis_2020_redacted.csv', encoding = \"ISO-8859-1\",low_memory=False)"
   ]
  },
  {
   "cell_type": "code",
   "execution_count": null,
   "metadata": {},
   "outputs": [],
   "source": [
    "repeats = pd.read_csv('../data/repeat_callers.csv')"
   ]
  },
  {
   "cell_type": "code",
   "execution_count": null,
   "metadata": {},
   "outputs": [],
   "source": [
    "singles = pd.read_csv('../data/one_time_callers.csv',low_memory=False)"
   ]
  },
  {
   "cell_type": "code",
   "execution_count": null,
   "metadata": {},
   "outputs": [],
   "source": [
    "# fcs_df.shape"
   ]
  },
  {
   "cell_type": "code",
   "execution_count": null,
   "metadata": {},
   "outputs": [],
   "source": [
    "# fcs_df.info()"
   ]
  },
  {
   "cell_type": "code",
   "execution_count": null,
   "metadata": {},
   "outputs": [],
   "source": [
    "# fcs_df.columns"
   ]
  },
  {
   "cell_type": "code",
   "execution_count": null,
   "metadata": {},
   "outputs": [],
   "source": [
    "# display(\"The column headers :\")\n",
    "# display(list(fcs_df.columns.values))"
   ]
  },
  {
   "cell_type": "code",
   "execution_count": null,
   "metadata": {},
   "outputs": [],
   "source": [
    "# fcs_sub = fcs_df.filter(regex='CRISIS Issues')"
   ]
  },
  {
   "cell_type": "code",
   "execution_count": null,
   "metadata": {},
   "outputs": [],
   "source": [
    "# fcs_sub.info()"
   ]
  },
  {
   "cell_type": "code",
   "execution_count": null,
   "metadata": {},
   "outputs": [],
   "source": [
    "# fcs_sub['CRISIS Issues - Emotional State'].isnull().sum()"
   ]
  },
  {
   "cell_type": "code",
   "execution_count": null,
   "metadata": {},
   "outputs": [],
   "source": [
    "# Jen's code to list all columns with nothing but null values\n",
    "# allnull = fcs_df.isnull().sum() == 22326\n",
    "# coldict = allnull.to_dict()\n",
    "# cols = list(fcs_df.columns.values)\n",
    "# null_list = []\n",
    "# for value in cols:\n",
    "#     if coldict[value] == True:\n",
    "#         null_list += [value]\n",
    "# null_list"
   ]
  },
  {
   "cell_type": "code",
   "execution_count": null,
   "metadata": {},
   "outputs": [],
   "source": [
    "# emot_rel_mh = fcs_df[['CallReportNum','CallDateAndTimeStart','CallDateAndTimeEnd',\\\n",
    "#            'CallLength','CRISIS Issues - Emotional State',\\\n",
    "#            'CRISIS Issues - Relationships','CRISIS Issues - Mental Health']]"
   ]
  },
  {
   "cell_type": "code",
   "execution_count": null,
   "metadata": {},
   "outputs": [],
   "source": [
    "# top_3_crisis_columns = fcs_df[['CRISIS Issues - Emotional State',\\\n",
    "#                                'CRISIS Issues - Relationships',\\\n",
    "#                                'CRISIS Issues - Mental Health']]"
   ]
  },
  {
   "cell_type": "code",
   "execution_count": null,
   "metadata": {},
   "outputs": [],
   "source": [
    "# emot_rel_mh.head()"
   ]
  },
  {
   "cell_type": "code",
   "execution_count": null,
   "metadata": {},
   "outputs": [],
   "source": [
    "# emot_rel_mh['CallLength'].describe()"
   ]
  },
  {
   "cell_type": "code",
   "execution_count": null,
   "metadata": {},
   "outputs": [],
   "source": [
    "# emot_rel_mh.info()"
   ]
  },
  {
   "cell_type": "code",
   "execution_count": null,
   "metadata": {},
   "outputs": [],
   "source": [
    "# emot_rel_mh['CRISIS Issues - Emotional State'].nunique()"
   ]
  },
  {
   "cell_type": "code",
   "execution_count": null,
   "metadata": {},
   "outputs": [],
   "source": [
    "# emot_rel_mh['CRISIS Issues - Emotional State'].value_counts()"
   ]
  },
  {
   "cell_type": "code",
   "execution_count": null,
   "metadata": {},
   "outputs": [],
   "source": [
    "# emot_rel_mh['CRISIS Issues - Relationships'].nunique()"
   ]
  },
  {
   "cell_type": "code",
   "execution_count": null,
   "metadata": {},
   "outputs": [],
   "source": [
    "# emot_rel_mh['CRISIS Issues - Relationships'].value_counts()"
   ]
  },
  {
   "cell_type": "code",
   "execution_count": null,
   "metadata": {},
   "outputs": [],
   "source": [
    "# emot_rel_mh['CRISIS Issues - Mental Health'].nunique()"
   ]
  },
  {
   "cell_type": "code",
   "execution_count": null,
   "metadata": {},
   "outputs": [],
   "source": [
    "# emot_rel_mh['CRISIS Issues - Mental Health'].value_counts()"
   ]
  },
  {
   "cell_type": "code",
   "execution_count": null,
   "metadata": {},
   "outputs": [],
   "source": [
    "# emot_rel_mh['count_emot_semicolons'] = emot_rel_mh['CRISIS Issues - Emotional State'].str.count(';')"
   ]
  },
  {
   "cell_type": "code",
   "execution_count": null,
   "metadata": {},
   "outputs": [],
   "source": [
    "# emot_rel_mh['count_emot_semicolons'].describe()"
   ]
  },
  {
   "cell_type": "code",
   "execution_count": null,
   "metadata": {},
   "outputs": [],
   "source": [
    "# emot_rel_mh['count_rel_semicolons'] = emot_rel_mh['CRISIS Issues - Relationships'].str.count(';')"
   ]
  },
  {
   "cell_type": "code",
   "execution_count": null,
   "metadata": {},
   "outputs": [],
   "source": [
    "# emot_rel_mh['count_mh_semicolons'] = emot_rel_mh['CRISIS Issues - Mental Health'].str.count(';')"
   ]
  },
  {
   "cell_type": "code",
   "execution_count": null,
   "metadata": {},
   "outputs": [],
   "source": [
    "# emot_rel_mh['count_rel_semicolons'].describe()"
   ]
  },
  {
   "cell_type": "code",
   "execution_count": null,
   "metadata": {},
   "outputs": [],
   "source": [
    "# emot_rel_mh['count_mh_semicolons'].describe()"
   ]
  },
  {
   "cell_type": "code",
   "execution_count": null,
   "metadata": {},
   "outputs": [],
   "source": [
    "# df['col_name'].dtype()\n",
    "# type(varible)"
   ]
  },
  {
   "cell_type": "code",
   "execution_count": null,
   "metadata": {},
   "outputs": [],
   "source": [
    "# this is currently working to pull unique issues from column\n",
    "def get_unique_issues(col_name, df, sep = '; '):\n",
    "    column = df[col_name]\n",
    "    #print(df[col_name].dtype)\n",
    "    #print(df[col_name])\n",
    "    column_list = column.astype(str).str.split(sep)\n",
    "    unique_list = list(set(column_list.dropna().sum()))\n",
    "    return unique_list\n",
    "#     return []"
   ]
  },
  {
   "cell_type": "code",
   "execution_count": null,
   "metadata": {},
   "outputs": [],
   "source": [
    "# def get_unique_issues(col_name, df, sep = '; '):\n",
    "#     column = df[col_name]\n",
    "#     print(df[col_name].dtype)\n",
    "#     results = []\n",
    "#     if column.isnull():\n",
    "#         print(df[col_name].dtype)\n",
    "#         print(df[col_name])\n",
    "#         column_list = column.astype(str).str.split(sep)\n",
    "#         results = list(set(column_list.sum()))\n",
    "#     return results"
   ]
  },
  {
   "cell_type": "code",
   "execution_count": null,
   "metadata": {},
   "outputs": [],
   "source": [
    "# get_unique_issues('CRISIS Issues - Emotional State', fcs_df)"
   ]
  },
  {
   "cell_type": "code",
   "execution_count": null,
   "metadata": {},
   "outputs": [],
   "source": [
    "# unique_columns_list = []\n",
    "# for column in top_3_crisis_columns.columns:\n",
    "#     print(column)\n",
    "#     unique_columns_list.append(get_unique_issues(column, top_3_crisis_columns))"
   ]
  },
  {
   "cell_type": "code",
   "execution_count": null,
   "metadata": {},
   "outputs": [],
   "source": [
    "# print(type(unique_columns_list))\n",
    "# print(unique_columns_list)"
   ]
  },
  {
   "cell_type": "code",
   "execution_count": null,
   "metadata": {},
   "outputs": [],
   "source": [
    "# issues_dict = {}\n",
    "# for issue in emotional_state_list.dropna().sum():\n",
    "#     # using if/else\n",
    "# #     if issue in issues_dict.keys():\n",
    "# #         issues_dict[issue] += 1\n",
    "# #     else:\n",
    "# #         issues_dict[issue] = 1\n",
    "#     #-------\n",
    "#     # using try/except\n",
    "#     try:\n",
    "#         issues_dict[issue] += 1\n",
    "#     except:\n",
    "#         issues_dict[issue] = 1\n",
    "# issues_dict"
   ]
  },
  {
   "cell_type": "code",
   "execution_count": null,
   "metadata": {},
   "outputs": [],
   "source": [
    "# [issue for sublist in unique_cols_list for issue in sublist]"
   ]
  },
  {
   "cell_type": "code",
   "execution_count": null,
   "metadata": {},
   "outputs": [],
   "source": [
    "# flat_list = []\n",
    "# for sublist in unique_cols_list:\n",
    "#     for issue in sublist:\n",
    "#         flat_list.append(issue)"
   ]
  },
  {
   "cell_type": "code",
   "execution_count": null,
   "metadata": {},
   "outputs": [],
   "source": [
    "risk_life_threating = [\n",
    "    'Abuse/Neglect Parent/Family',\n",
    "    'Abuse/Neglect of Spouse/Partner',\n",
    "    'Child Abuse/Neglect',\n",
    "    'Child Endangerment',\n",
    "    'Child Sexual Abuse',\n",
    "    'Pedophile',\n",
    "    'Cult/Ritualistic Abuse',\n",
    "    'Adult Protective Services',\n",
    "    'Runaway/Missing',\n",
    "    'Rape/Sexual Abuse',\n",
    "    'Mass Violence',\n",
    "    'Terrorism',\n",
    "    'Non-Suicidal Self Injury',\n",
    "    'Homicidal Thoughts/Ideations',\n",
    "    '3rd Party Concern for Homicide',\n",
    "    'Homicide Plan/Attempt In-Progress',\n",
    "    'Suicidal Thoughts/Ideations',\n",
    "    'Suicide Plan/Attempt In-Progress',\n",
    "    '3rd Party Concern for Suicide',\n",
    "    'Mobile Crisis',\n",
    "    'Emergency Medical Services',\n",
    "    'Emergency (Mental Health)',\n",
    "    'Overdose',\n",
    "    'Poisoning',\n",
    "    'Detoxification',\n",
    "    'Under the Influence',\n",
    "    'Street Drug Problem',\n",
    "    'Medication Concern',\n",
    "]"
   ]
  },
  {
   "cell_type": "code",
   "execution_count": null,
   "metadata": {},
   "outputs": [],
   "source": [
    "# risk_sub = fcs_df.filter(regex='risk')\n",
    "# risk_sub.head(2)"
   ]
  },
  {
   "cell_type": "code",
   "execution_count": null,
   "metadata": {},
   "outputs": [],
   "source": [
    "# risk_sub.columns"
   ]
  },
  {
   "cell_type": "code",
   "execution_count": null,
   "metadata": {},
   "outputs": [],
   "source": [
    "# risk_sub['CRISIS/LIFLINE THIRD-PARTY IMMINENT RISK - Imminent risk for suicide for third party call?'].value_counts()"
   ]
  },
  {
   "cell_type": "code",
   "execution_count": null,
   "metadata": {},
   "outputs": [],
   "source": [
    "# risk_sub['CRISIS/LIFELINE Imminent Risk - 2. Was caller at imminent risk for suicide? '].value_counts()"
   ]
  },
  {
   "cell_type": "code",
   "execution_count": null,
   "metadata": {},
   "outputs": [],
   "source": [
    "# #array = risk_life_threatening\n",
    "# fcs_df.loc[fcs_df['CRISIS Issues - Emotional State'].isin(risk_life_threatening)]"
   ]
  },
  {
   "cell_type": "markdown",
   "metadata": {},
   "source": [
    "# Group Assignment Begins Here"
   ]
  },
  {
   "cell_type": "markdown",
   "metadata": {},
   "source": [
    "### Perform EDA on issues/content aspects of repeat caller group. #4"
   ]
  },
  {
   "cell_type": "code",
   "execution_count": null,
   "metadata": {},
   "outputs": [],
   "source": [
    "print('Repeat callers')\n",
    "print(repeats.shape)\n",
    "print('One time callers')\n",
    "print(singles.shape)"
   ]
  },
  {
   "cell_type": "code",
   "execution_count": null,
   "metadata": {},
   "outputs": [],
   "source": [
    "repeats.head()"
   ]
  },
  {
   "cell_type": "code",
   "execution_count": null,
   "metadata": {},
   "outputs": [],
   "source": [
    "repeats_sub = repeats[['CallReportNum','CallerNum','CallDateAndTimeStart','CallDateAndTimeEnd',\\\n",
    "           'CallLength','start_time','CRISIS Issues - Emotional State',\\\n",
    "           'CRISIS Issues - Relationships','CRISIS Issues - Mental Health']]"
   ]
  },
  {
   "cell_type": "code",
   "execution_count": null,
   "metadata": {},
   "outputs": [],
   "source": [
    "repeats_sub_3columns = repeats[['CRISIS Issues - Emotional State',\\\n",
    "           'CRISIS Issues - Relationships','CRISIS Issues - Mental Health']]"
   ]
  },
  {
   "cell_type": "code",
   "execution_count": null,
   "metadata": {},
   "outputs": [],
   "source": [
    "repeats_sub.head(2)"
   ]
  },
  {
   "cell_type": "code",
   "execution_count": null,
   "metadata": {},
   "outputs": [],
   "source": [
    "singles_sub = singles[['CallReportNum','CallerNum','CallDateAndTimeStart','CallDateAndTimeEnd',\\\n",
    "           'CallLength','start_time','CRISIS Issues - Emotional State',\\\n",
    "           'CRISIS Issues - Relationships','CRISIS Issues - Mental Health']]"
   ]
  },
  {
   "cell_type": "code",
   "execution_count": null,
   "metadata": {},
   "outputs": [],
   "source": [
    "singles_sub_3columns = singles_sub[['CRISIS Issues - Emotional State',\\\n",
    "           'CRISIS Issues - Relationships','CRISIS Issues - Mental Health']]"
   ]
  },
  {
   "cell_type": "code",
   "execution_count": null,
   "metadata": {},
   "outputs": [],
   "source": [
    "# repeat_counts = repeats_sub['CallerNum'].value_counts()\n",
    "# repeat_counts"
   ]
  },
  {
   "cell_type": "code",
   "execution_count": null,
   "metadata": {},
   "outputs": [],
   "source": [
    "# repeat_counts = repeat_counts.to_frame().reset_index()"
   ]
  },
  {
   "cell_type": "code",
   "execution_count": null,
   "metadata": {},
   "outputs": [],
   "source": [
    "# repeat_counts.columns = ['caller_num', 'count_calls']"
   ]
  },
  {
   "cell_type": "code",
   "execution_count": null,
   "metadata": {},
   "outputs": [],
   "source": [
    "# repeat_counts"
   ]
  },
  {
   "cell_type": "code",
   "execution_count": null,
   "metadata": {},
   "outputs": [],
   "source": [
    "# repeat_counts.info()"
   ]
  },
  {
   "cell_type": "code",
   "execution_count": null,
   "metadata": {},
   "outputs": [],
   "source": [
    "# repeat_counts['caller_num'] = repeat_counts['caller_num'].astype(str)"
   ]
  },
  {
   "cell_type": "code",
   "execution_count": null,
   "metadata": {},
   "outputs": [],
   "source": [
    "# repeat_counts.info()"
   ]
  },
  {
   "cell_type": "code",
   "execution_count": null,
   "metadata": {},
   "outputs": [],
   "source": [
    "# sns.barplot(x='caller_num', y='count_calls', data=repeat_counts,\n",
    "#             label=\"Repeat Caller Counts\", color=\"b\")\n",
    "# plt.xticks(rotation=30)\n",
    "# sns.factorplot(x='count_calls', y='caller_num', data=repeat_counts)\n",
    "# plt.bar(repeat_counts['caller_num'], repeat_counts['count_calls']);"
   ]
  },
  {
   "cell_type": "code",
   "execution_count": null,
   "metadata": {},
   "outputs": [],
   "source": [
    "# repeats_sub.columns"
   ]
  },
  {
   "cell_type": "code",
   "execution_count": null,
   "metadata": {},
   "outputs": [],
   "source": [
    "# get_unique_issues('CRISIS Issues - Emotional State', repeats_sub)"
   ]
  },
  {
   "cell_type": "code",
   "execution_count": null,
   "metadata": {},
   "outputs": [],
   "source": [
    "# get_unique_issues('CRISIS Issues - Relationships', repeats_sub)"
   ]
  },
  {
   "cell_type": "code",
   "execution_count": null,
   "metadata": {},
   "outputs": [],
   "source": [
    "# get_unique_issues('CRISIS Issues - Mental Health', repeats_sub)"
   ]
  },
  {
   "cell_type": "code",
   "execution_count": null,
   "metadata": {},
   "outputs": [],
   "source": [
    "# repeats_sub.head(1)"
   ]
  },
  {
   "cell_type": "code",
   "execution_count": null,
   "metadata": {},
   "outputs": [],
   "source": [
    "# repeats_sub.groupby(['CallerNum'])['CRISIS Issues - Emotional State'].count().sort_values()"
   ]
  },
  {
   "cell_type": "code",
   "execution_count": null,
   "metadata": {},
   "outputs": [],
   "source": [
    "# callernum_unique_issues = repeats_sub.groupby(['CallerNum'])['CRISIS Issues - Emotional State'].unique()"
   ]
  },
  {
   "cell_type": "code",
   "execution_count": null,
   "metadata": {},
   "outputs": [],
   "source": [
    "# callernum_unique_issues = callernum_unique_issues.to_frame().reset_index()"
   ]
  },
  {
   "cell_type": "code",
   "execution_count": null,
   "metadata": {},
   "outputs": [],
   "source": [
    "# type(callernum_unique_issues)"
   ]
  },
  {
   "cell_type": "code",
   "execution_count": null,
   "metadata": {},
   "outputs": [],
   "source": [
    "# callernum_unique_issues['CallerNum'] = callernum_unique_issues['CallerNum'].astype(str)"
   ]
  },
  {
   "cell_type": "code",
   "execution_count": null,
   "metadata": {},
   "outputs": [],
   "source": [
    "# callernum_unique_issues.info()"
   ]
  },
  {
   "cell_type": "code",
   "execution_count": null,
   "metadata": {},
   "outputs": [],
   "source": [
    "# callernum_unique_issues.head()"
   ]
  },
  {
   "cell_type": "code",
   "execution_count": null,
   "metadata": {},
   "outputs": [],
   "source": [
    "# # this is currently working to pull unique issues from column\n",
    "# def get_unique_issues(col_name, df, sep = '; '):\n",
    "#     column = df[col_name]\n",
    "#     #print(df[col_name].dtype)\n",
    "#     #print(df[col_name])\n",
    "#     column_list = column.astype(str).str.split(sep)\n",
    "#     unique_list = list(set(column_list.dropna().sum()))\n",
    "#     return unique_list\n",
    "# #     return []"
   ]
  },
  {
   "cell_type": "code",
   "execution_count": null,
   "metadata": {},
   "outputs": [],
   "source": [
    "# this is currently working to pull total issues from column\n",
    "def get_total_issues(col_name, df, sep = '; '):\n",
    "    column = df[col_name]\n",
    "    #print(df[col_name].dtype)\n",
    "    #print(df[col_name])\n",
    "    column_list = column.astype(str).str.split(sep)\n",
    "    total_column_list = list(column_list.dropna().sum())\n",
    "    return total_column_list\n",
    "#     return []"
   ]
  },
  {
   "cell_type": "markdown",
   "metadata": {},
   "source": [
    "## Analyze all issues instead of issues per column \n",
    "### Combine three columns into one then analyze"
   ]
  },
  {
   "cell_type": "code",
   "execution_count": null,
   "metadata": {},
   "outputs": [],
   "source": [
    "repeats_sub_3columns.head()"
   ]
  },
  {
   "cell_type": "code",
   "execution_count": null,
   "metadata": {},
   "outputs": [],
   "source": [
    "repeats_sub_3columns['combined'] = repeats_sub_3columns['CRISIS Issues - Emotional State']\\\n",
    ".str.cat(repeats_sub_3columns['CRISIS Issues - Relationships'],sep=\"; \")"
   ]
  },
  {
   "cell_type": "code",
   "execution_count": null,
   "metadata": {},
   "outputs": [],
   "source": [
    "repeats_sub_3columns['combined'] = repeats_sub_3columns['combined']\\\n",
    ".str.cat(repeats_sub_3columns['CRISIS Issues - Mental Health'],sep=\"; \")"
   ]
  },
  {
   "cell_type": "code",
   "execution_count": null,
   "metadata": {},
   "outputs": [],
   "source": [
    "repeats_sub_3columns = repeats_sub_3columns.fillna('zzzzz')"
   ]
  },
  {
   "cell_type": "code",
   "execution_count": null,
   "metadata": {},
   "outputs": [],
   "source": [
    "repeats_sub_3columns.columns"
   ]
  },
  {
   "cell_type": "code",
   "execution_count": null,
   "metadata": {},
   "outputs": [],
   "source": [
    "issues_3columns = get_total_issues('combined',repeats_sub_3columns)"
   ]
  },
  {
   "cell_type": "code",
   "execution_count": null,
   "metadata": {},
   "outputs": [],
   "source": [
    "dict_issues_3columns = Counter(issues_3columns)"
   ]
  },
  {
   "cell_type": "code",
   "execution_count": null,
   "metadata": {},
   "outputs": [],
   "source": [
    "rep_sorted_dict_issues_3columns = collections.OrderedDict(sorted\\\n",
    "    (dict_issues_3columns.items(), key=lambda t: t[1], reverse=True)[:11])"
   ]
  },
  {
   "cell_type": "code",
   "execution_count": null,
   "metadata": {},
   "outputs": [],
   "source": [
    "del rep_sorted_dict_issues_3columns['zzzzz']"
   ]
  },
  {
   "cell_type": "code",
   "execution_count": null,
   "metadata": {},
   "outputs": [],
   "source": [
    "s = sum(rep_sorted_dict_issues_3columns.values())\n",
    "repeat_keys = []\n",
    "for k, v in rep_sorted_dict_issues_3columns.items():\n",
    "    pct = round((v * 100.0 / s),1)\n",
    "    repeat_keys.append({'issues':k, 'percent':pct})\n",
    "    print(k, pct)"
   ]
  },
  {
   "cell_type": "code",
   "execution_count": null,
   "metadata": {},
   "outputs": [],
   "source": [
    "df_repeat_keys = pd.DataFrame(repeat_keys)"
   ]
  },
  {
   "cell_type": "code",
   "execution_count": null,
   "metadata": {},
   "outputs": [],
   "source": [
    "df_repeat_keys.info()"
   ]
  },
  {
   "cell_type": "code",
   "execution_count": null,
   "metadata": {},
   "outputs": [],
   "source": [
    "plt.bar(df_repeat_keys['issues'],\\\n",
    "        df_repeat_keys['percent'],\\\n",
    "        color = '#53b92b')\n",
    "plt.xticks(rotation=90)\n",
    "plt.title('Repeat Callers: Top 10 Issues')\n",
    "plt.xlabel('Issues')\n",
    "plt.ylabel('Percentage of Issues')\n",
    "plt.xticks(rotation=45,\n",
    "        horizontalalignment=\"right\")\n",
    "plt.ylim(0, 30)\n",
    "plt.text(.25, 3, 'test')\n",
    ";"
   ]
  },
  {
   "cell_type": "code",
   "execution_count": null,
   "metadata": {},
   "outputs": [],
   "source": [
    "# men_means, men_std = (20, 35, 30, 35, 27), (2, 3, 4, 1, 2)\n",
    "# women_means, women_std = (25, 32, 34, 20, 25), (3, 5, 2, 3, 3)\n",
    "\n",
    "# ind = np.arange(len(men_means))  # the x locations for the groups\n",
    "# width = 0.35  # the width of the bars\n",
    "\n",
    "# fig, ax = plt.subplots()\n",
    "# rects1 = ax.bar(ind - width/2, men_means, width, yerr=men_std,\n",
    "#                 label='Men')\n",
    "# rects2 = ax.bar(ind + width/2, women_means, width, yerr=women_std,\n",
    "#                 label='Women')\n",
    "\n",
    "# # Add some text for labels, title and custom x-axis tick labels, etc.\n",
    "# ax.set_ylabel('Scores')\n",
    "# ax.set_title('Scores by group and gender')\n",
    "# ax.set_xticks(ind)\n",
    "# ax.set_xticklabels(('G1', 'G2', 'G3', 'G4', 'G5'))\n",
    "# ax.legend()"
   ]
  },
  {
   "cell_type": "code",
   "execution_count": null,
   "metadata": {},
   "outputs": [],
   "source": [
    "# ind = np.arange(len(df_repeat_keys['issues']))  # the x locations for the groups\n",
    "# width = 0.35\n",
    "\n",
    "# fig,ax = plt.subplots\n",
    "# rects1 = ax.bar(ind - width/2, df_repeat_keys['percent'], width,# yerr=men_std,\n",
    "#                 label='Repeat Callers')\n",
    "# rects2 = ax.bar(ind + width/2, df_single_keys['percent'], width,# yerr=women_std,\n",
    "#                 label='One Time Callers')"
   ]
  },
  {
   "cell_type": "code",
   "execution_count": null,
   "metadata": {},
   "outputs": [],
   "source": []
  },
  {
   "cell_type": "code",
   "execution_count": null,
   "metadata": {},
   "outputs": [],
   "source": []
  },
  {
   "cell_type": "code",
   "execution_count": null,
   "metadata": {},
   "outputs": [],
   "source": []
  },
  {
   "cell_type": "code",
   "execution_count": null,
   "metadata": {},
   "outputs": [],
   "source": []
  },
  {
   "cell_type": "code",
   "execution_count": null,
   "metadata": {},
   "outputs": [],
   "source": [
    "rep_sorted_dict_issues_3columns"
   ]
  },
  {
   "cell_type": "code",
   "execution_count": null,
   "metadata": {},
   "outputs": [],
   "source": [
    "plt.bar(rep_sorted_dict_issues_3columns.keys(),\\\n",
    "        rep_sorted_dict_issues_3columns.values(),\\\n",
    "        color = '#53b92b')\n",
    "plt.xticks(rotation=90)\n",
    "plt.title('Repeat Callers: Top 10 Issues')\n",
    "plt.xlabel('Issues')\n",
    "plt.ylabel('Count of Issues')\n",
    "plt.xticks(rotation=45,\n",
    "        horizontalalignment=\"right\")\n",
    "plt.ylim(0, 3250) \n",
    ";"
   ]
  },
  {
   "cell_type": "markdown",
   "metadata": {},
   "source": [
    "### Combine three columns into one then analyze for one time callers"
   ]
  },
  {
   "cell_type": "code",
   "execution_count": null,
   "metadata": {},
   "outputs": [],
   "source": [
    "singles_sub_3columns.head()"
   ]
  },
  {
   "cell_type": "code",
   "execution_count": null,
   "metadata": {},
   "outputs": [],
   "source": [
    "singles_sub_3columns['combined'] = singles_sub_3columns['CRISIS Issues - Emotional State']\\\n",
    ".str.cat(repeats_sub_3columns['CRISIS Issues - Relationships'],sep=\"; \")"
   ]
  },
  {
   "cell_type": "code",
   "execution_count": null,
   "metadata": {},
   "outputs": [],
   "source": [
    "singles_sub_3columns['combined'] = singles_sub_3columns['combined']\\\n",
    ".str.cat(repeats_sub_3columns['CRISIS Issues - Mental Health'],sep=\"; \")"
   ]
  },
  {
   "cell_type": "code",
   "execution_count": null,
   "metadata": {},
   "outputs": [],
   "source": [
    "singles_sub_3columns = singles_sub_3columns.fillna('zzzzz')"
   ]
  },
  {
   "cell_type": "code",
   "execution_count": null,
   "metadata": {},
   "outputs": [],
   "source": [
    "singles_sub_3columns.columns"
   ]
  },
  {
   "cell_type": "code",
   "execution_count": null,
   "metadata": {},
   "outputs": [],
   "source": [
    "singles_issues_3columns = get_total_issues('combined',singles_sub_3columns)"
   ]
  },
  {
   "cell_type": "code",
   "execution_count": null,
   "metadata": {},
   "outputs": [],
   "source": [
    "dict_singles_issues_3columns = Counter(singles_issues_3columns)"
   ]
  },
  {
   "cell_type": "code",
   "execution_count": null,
   "metadata": {},
   "outputs": [],
   "source": [
    "rep_sorted_dict_singles_issues_3columns = collections.OrderedDict(sorted\\\n",
    "    (dict_singles_issues_3columns.items(), key=lambda t: t[1], reverse=True)[:11])"
   ]
  },
  {
   "cell_type": "code",
   "execution_count": null,
   "metadata": {},
   "outputs": [],
   "source": [
    "del rep_sorted_dict_singles_issues_3columns['zzzzz']"
   ]
  },
  {
   "cell_type": "code",
   "execution_count": null,
   "metadata": {},
   "outputs": [],
   "source": [
    "s2 = sum(rep_sorted_dict_singles_issues_3columns.values())\n",
    "single_keys = []\n",
    "for k, v in rep_sorted_dict_singles_issues_3columns.items():\n",
    "    pct = round((v * 100.0 / s2),1)\n",
    "    single_keys.append({'issues':k, 'percent':pct})\n",
    "    print(k, pct)"
   ]
  },
  {
   "cell_type": "code",
   "execution_count": null,
   "metadata": {},
   "outputs": [],
   "source": [
    "df_single_keys = pd.DataFrame(single_keys)"
   ]
  },
  {
   "cell_type": "code",
   "execution_count": null,
   "metadata": {},
   "outputs": [],
   "source": [
    "plt.bar(df_single_keys['issues'],\\\n",
    "        df_single_keys['percent'],\\\n",
    "        color = '#a45c7c')\n",
    "plt.xticks(rotation=90)\n",
    "plt.title('One Time Callers: Top 10 Issues')\n",
    "plt.xlabel('Issues')\n",
    "plt.ylabel('Percentage of Issues')\n",
    "plt.xticks(rotation=45,\n",
    "        horizontalalignment=\"right\")\n",
    "plt.ylim(0, 30) \n",
    ";"
   ]
  },
  {
   "cell_type": "code",
   "execution_count": null,
   "metadata": {},
   "outputs": [],
   "source": []
  },
  {
   "cell_type": "code",
   "execution_count": null,
   "metadata": {},
   "outputs": [],
   "source": []
  },
  {
   "cell_type": "code",
   "execution_count": null,
   "metadata": {},
   "outputs": [],
   "source": []
  },
  {
   "cell_type": "code",
   "execution_count": null,
   "metadata": {},
   "outputs": [],
   "source": [
    "rep_sorted_dict_singles_issues_3columns"
   ]
  },
  {
   "cell_type": "code",
   "execution_count": null,
   "metadata": {},
   "outputs": [],
   "source": [
    "plt.bar(rep_sorted_dict_singles_issues_3columns.keys(),\\\n",
    "        rep_sorted_dict_singles_issues_3columns.values(), color = '#a45c7c')\n",
    "plt.xticks(rotation=90)\n",
    "plt.title('One Time Callers: Top 10 Issues')\n",
    "plt.xlabel('Issues')\n",
    "plt.ylabel('Count of Issues')\n",
    "plt.xticks(rotation=45,\n",
    "        horizontalalignment=\"right\")\n",
    "plt.ylim(0, 3250) \n",
    ";"
   ]
  },
  {
   "cell_type": "code",
   "execution_count": null,
   "metadata": {},
   "outputs": [],
   "source": []
  },
  {
   "cell_type": "markdown",
   "metadata": {},
   "source": [
    "### Repeat callers Emotional State column"
   ]
  },
  {
   "cell_type": "code",
   "execution_count": null,
   "metadata": {},
   "outputs": [],
   "source": [
    "rep_issues_es = get_total_issues('CRISIS Issues - Emotional State',repeats_sub)"
   ]
  },
  {
   "cell_type": "code",
   "execution_count": null,
   "metadata": {},
   "outputs": [],
   "source": [
    "rep_dict_issues_es = Counter(rep_issues_es)"
   ]
  },
  {
   "cell_type": "code",
   "execution_count": null,
   "metadata": {},
   "outputs": [],
   "source": [
    "rep_dict_issues_es"
   ]
  },
  {
   "cell_type": "code",
   "execution_count": null,
   "metadata": {},
   "outputs": [],
   "source": [
    "type(rep_dict_issues_es)"
   ]
  },
  {
   "cell_type": "code",
   "execution_count": null,
   "metadata": {},
   "outputs": [],
   "source": [
    "del rep_dict_issues_es['nan']"
   ]
  },
  {
   "cell_type": "code",
   "execution_count": null,
   "metadata": {},
   "outputs": [],
   "source": [
    "# dictionary sorted by value\n",
    "rep_sorted_dict_issues_es = collections.OrderedDict(sorted\\\n",
    "    (rep_dict_issues_es.items(), key=lambda t: t[1], reverse=True)[:5])"
   ]
  },
  {
   "cell_type": "code",
   "execution_count": null,
   "metadata": {},
   "outputs": [],
   "source": [
    "# # create a function which returns the value of a dictionary\n",
    "# def keyfunction(k):\n",
    "#     return rep_dict_issues_es[k]\n",
    "\n",
    "# # sort by dictionary by the values and print top 3 {key, value} pairs\n",
    "# for key in sorted(rep_dict_issues_es, key=keyfunction, reverse=True)[:5]:\n",
    "#     print (key, rep_dict_issues_es[key])\n"
   ]
  },
  {
   "cell_type": "code",
   "execution_count": null,
   "metadata": {},
   "outputs": [],
   "source": [
    "plt.bar(rep_sorted_dict_issues_es.keys(), rep_sorted_dict_issues_es.values(), color = '#a45c7c')\n",
    "plt.xticks(rotation=90)\n",
    "plt.title('Repeat Callers Emotional State Issues')\n",
    "plt.xlabel('Issues')\n",
    "plt.ylabel('Count of Issues')\n",
    ";"
   ]
  },
  {
   "cell_type": "code",
   "execution_count": null,
   "metadata": {},
   "outputs": [],
   "source": []
  },
  {
   "cell_type": "code",
   "execution_count": null,
   "metadata": {},
   "outputs": [],
   "source": []
  },
  {
   "cell_type": "markdown",
   "metadata": {},
   "source": [
    "### Repeat callers Relationships column"
   ]
  },
  {
   "cell_type": "code",
   "execution_count": null,
   "metadata": {},
   "outputs": [],
   "source": [
    "rep_issues_rs = get_total_issues('CRISIS Issues - Relationships',repeats_sub)"
   ]
  },
  {
   "cell_type": "code",
   "execution_count": null,
   "metadata": {},
   "outputs": [],
   "source": [
    "rep_dict_issues_rs = Counter(rep_issues_rs)"
   ]
  },
  {
   "cell_type": "code",
   "execution_count": null,
   "metadata": {},
   "outputs": [],
   "source": [
    "del rep_dict_issues_rs['nan']"
   ]
  },
  {
   "cell_type": "code",
   "execution_count": null,
   "metadata": {},
   "outputs": [],
   "source": [
    "rep_sorted_dict_issues_rs = collections.OrderedDict(sorted(rep_dict_issues_rs.items(), key=lambda t: t[1], reverse=True)[:5])"
   ]
  },
  {
   "cell_type": "markdown",
   "metadata": {},
   "source": [
    "### Repeat callers Mental Health column"
   ]
  },
  {
   "cell_type": "code",
   "execution_count": null,
   "metadata": {},
   "outputs": [],
   "source": [
    "rep_issues_mh = get_total_issues('CRISIS Issues - Mental Health',repeats_sub)"
   ]
  },
  {
   "cell_type": "code",
   "execution_count": null,
   "metadata": {},
   "outputs": [],
   "source": [
    "rep_dict_issues_mh = Counter(rep_issues_mh)"
   ]
  },
  {
   "cell_type": "code",
   "execution_count": null,
   "metadata": {},
   "outputs": [],
   "source": [
    "del rep_dict_issues_mh['nan']"
   ]
  },
  {
   "cell_type": "code",
   "execution_count": null,
   "metadata": {},
   "outputs": [],
   "source": [
    "rep_sorted_dict_issues_mh = collections.OrderedDict(sorted(rep_dict_issues_mh.items(), key=lambda t: t[1], reverse=True)[:5])"
   ]
  },
  {
   "cell_type": "markdown",
   "metadata": {},
   "source": [
    "### Single callers Emotional State column"
   ]
  },
  {
   "cell_type": "code",
   "execution_count": null,
   "metadata": {},
   "outputs": [],
   "source": [
    "sing_issues_es = get_total_issues('CRISIS Issues - Emotional State',singles_sub)"
   ]
  },
  {
   "cell_type": "code",
   "execution_count": null,
   "metadata": {},
   "outputs": [],
   "source": [
    "sing_dict_issues_es = Counter(sing_issues_es)"
   ]
  },
  {
   "cell_type": "code",
   "execution_count": null,
   "metadata": {},
   "outputs": [],
   "source": [
    "sing_dict_issues_es"
   ]
  },
  {
   "cell_type": "code",
   "execution_count": null,
   "metadata": {},
   "outputs": [],
   "source": [
    "type(sing_dict_issues_es)"
   ]
  },
  {
   "cell_type": "code",
   "execution_count": null,
   "metadata": {},
   "outputs": [],
   "source": [
    "del sing_dict_issues_es['nan']"
   ]
  },
  {
   "cell_type": "code",
   "execution_count": null,
   "metadata": {},
   "outputs": [],
   "source": [
    "# dictionary sorted by value\n",
    "sing_sorted_dict_issues_es = collections.OrderedDict(sorted(sing_dict_issues_es.items(), key=lambda t: t[1], reverse=True)[:5])"
   ]
  },
  {
   "cell_type": "markdown",
   "metadata": {},
   "source": [
    "### Single callers Relationships column"
   ]
  },
  {
   "cell_type": "code",
   "execution_count": null,
   "metadata": {},
   "outputs": [],
   "source": [
    "sing_issues_rs = get_total_issues('CRISIS Issues - Relationships',singles_sub)"
   ]
  },
  {
   "cell_type": "code",
   "execution_count": null,
   "metadata": {},
   "outputs": [],
   "source": [
    "sing_dict_issues_rs = Counter(sing_issues_rs)"
   ]
  },
  {
   "cell_type": "code",
   "execution_count": null,
   "metadata": {},
   "outputs": [],
   "source": [
    "del sing_dict_issues_rs['nan']"
   ]
  },
  {
   "cell_type": "code",
   "execution_count": null,
   "metadata": {},
   "outputs": [],
   "source": [
    "sing_sorted_dict_issues_rs = collections.OrderedDict(sorted(sing_dict_issues_rs.items(), key=lambda t: t[1], reverse=True)[:5])"
   ]
  },
  {
   "cell_type": "markdown",
   "metadata": {},
   "source": [
    "### Single callers Mental Health column"
   ]
  },
  {
   "cell_type": "code",
   "execution_count": null,
   "metadata": {},
   "outputs": [],
   "source": [
    "sing_issues_mh = get_total_issues('CRISIS Issues - Mental Health',singles_sub)"
   ]
  },
  {
   "cell_type": "code",
   "execution_count": null,
   "metadata": {},
   "outputs": [],
   "source": [
    "sing_dict_issues_mh = Counter(sing_issues_mh)"
   ]
  },
  {
   "cell_type": "code",
   "execution_count": null,
   "metadata": {},
   "outputs": [],
   "source": [
    "del sing_dict_issues_mh['nan']"
   ]
  },
  {
   "cell_type": "code",
   "execution_count": null,
   "metadata": {},
   "outputs": [],
   "source": [
    "sing_sorted_dict_issues_mh = collections.OrderedDict(sorted(sing_dict_issues_mh.items(), key=lambda t: t[1], reverse=True)[:5])"
   ]
  },
  {
   "cell_type": "code",
   "execution_count": null,
   "metadata": {},
   "outputs": [],
   "source": []
  },
  {
   "cell_type": "code",
   "execution_count": null,
   "metadata": {},
   "outputs": [],
   "source": [
    "plt.bar(rep_sorted_dict_issues_es.keys(), rep_sorted_dict_issues_es.values(), color = '#53b92b')\n",
    "plt.xticks(rotation=45)\n",
    "plt.title('Repeat Callers: Top 5 Emotional State Issues')\n",
    "plt.xlabel('Issues')\n",
    "plt.ylabel('Count of Issues')\n",
    ";"
   ]
  },
  {
   "cell_type": "code",
   "execution_count": null,
   "metadata": {},
   "outputs": [],
   "source": [
    "plt.bar(rep_sorted_dict_issues_rs.keys(), rep_sorted_dict_issues_rs.values(), color = '#53b92b')\n",
    "plt.xticks(rotation=45)\n",
    "plt.title('Repeat Callers: Top 5 Relationship Issues')\n",
    "plt.xlabel('Issues')\n",
    "plt.ylabel('Count of Issues')\n",
    ";"
   ]
  },
  {
   "cell_type": "code",
   "execution_count": null,
   "metadata": {},
   "outputs": [],
   "source": [
    "plt.bar(rep_sorted_dict_issues_mh.keys(), rep_sorted_dict_issues_mh.values(), color = '#53b92b')\n",
    "plt.xticks(rotation=45)\n",
    "plt.title('Repeat Callers: Top 5 Mental Health Issues')\n",
    "plt.xlabel('Issues')\n",
    "plt.ylabel('Count of Issues')\n",
    ";"
   ]
  },
  {
   "cell_type": "code",
   "execution_count": null,
   "metadata": {},
   "outputs": [],
   "source": [
    "plt.bar(sing_sorted_dict_issues_es.keys(), sing_sorted_dict_issues_es.values(), color = '#a45c7c')\n",
    "plt.xticks(rotation=45)\n",
    "plt.title('First Time Callers: Top 5 Emotional State Issues')\n",
    "plt.xlabel('Issues')\n",
    "plt.ylabel('Count of Issues')\n",
    ";"
   ]
  },
  {
   "cell_type": "code",
   "execution_count": null,
   "metadata": {},
   "outputs": [],
   "source": [
    "plt.bar(sing_sorted_dict_issues_rs.keys(), sing_sorted_dict_issues_rs.values(), color = '#a45c7c')\n",
    "plt.xticks(rotation=45)\n",
    "plt.title('First Time Callers: Top 5 Relationship Issues')\n",
    "plt.xlabel('Issues')\n",
    "plt.ylabel('Count of Issues')\n",
    ";"
   ]
  },
  {
   "cell_type": "code",
   "execution_count": null,
   "metadata": {},
   "outputs": [],
   "source": [
    "plt.bar(sing_sorted_dict_issues_mh.keys(), sing_sorted_dict_issues_mh.values(), color = '#a45c7c')\n",
    "plt.xticks(rotation=45)\n",
    "plt.title('First Time Callers: Top 5 Mental Health Issues')\n",
    "plt.xlabel('Issues')\n",
    "plt.ylabel('Count of Issues')\n",
    ";"
   ]
  },
  {
   "cell_type": "code",
   "execution_count": null,
   "metadata": {},
   "outputs": [],
   "source": []
  },
  {
   "cell_type": "code",
   "execution_count": null,
   "metadata": {},
   "outputs": [],
   "source": []
  },
  {
   "cell_type": "markdown",
   "metadata": {},
   "source": [
    "### Helping Kelly analyze her info"
   ]
  },
  {
   "cell_type": "code",
   "execution_count": null,
   "metadata": {},
   "outputs": [],
   "source": [
    "# issues_es.isin(['Anxious/Stressed','Job Stress'])"
   ]
  },
  {
   "cell_type": "code",
   "execution_count": null,
   "metadata": {},
   "outputs": [],
   "source": [
    "# s1.str.contains('house|dog', regex=True)"
   ]
  },
  {
   "cell_type": "code",
   "execution_count": null,
   "metadata": {},
   "outputs": [],
   "source": [
    "# imm_risk = 'Anxious/Stressed|Job Stress|Lonely '"
   ]
  },
  {
   "cell_type": "code",
   "execution_count": null,
   "metadata": {},
   "outputs": [],
   "source": [
    "# repeats_sub['CRISIS Issues - Emotional State'].str.contains(imm_risk, regex=True).value_counts()"
   ]
  },
  {
   "cell_type": "code",
   "execution_count": null,
   "metadata": {},
   "outputs": [],
   "source": [
    "# imm_risk = ('Anxious/Stressed','Job Stress','Kelly')\n",
    "# column_to_analyze = repeats_sub['CRISIS Issues - Emotional State']\n",
    "# df = repeats_sub"
   ]
  },
  {
   "cell_type": "code",
   "execution_count": null,
   "metadata": {},
   "outputs": [],
   "source": [
    "# def imm_risk_funct(df, column_to_analyze, imm_risk):\n",
    "#     results1 = df[column_to_analyze].str.contains(imm_risk, regex=True).value_counts()\n",
    "#     return results1"
   ]
  },
  {
   "cell_type": "code",
   "execution_count": null,
   "metadata": {},
   "outputs": [],
   "source": [
    "# imm_risk_funct(df, column_to_analyze, imm_risk)"
   ]
  },
  {
   "cell_type": "code",
   "execution_count": null,
   "metadata": {},
   "outputs": [],
   "source": [
    "# def multiply_function(current_number, multiply_value):\n",
    "#     answer = current_number * multiply_value\n",
    "#     return answer"
   ]
  },
  {
   "cell_type": "code",
   "execution_count": null,
   "metadata": {},
   "outputs": [],
   "source": [
    "# repeats_sub['CRISIS Issues - Emotional State'].fillna(\"missing\", inplace = True)"
   ]
  },
  {
   "cell_type": "code",
   "execution_count": null,
   "metadata": {},
   "outputs": [],
   "source": [
    "# def imminent_risk_function(df, column_to_analze, master_list):\n",
    "#     results = df[column_to_analyze].isin([master_list]).value_counts()\n",
    "#     return results"
   ]
  },
  {
   "cell_type": "code",
   "execution_count": null,
   "metadata": {},
   "outputs": [],
   "source": [
    "# master_list = ['Anxious/Stressed','Job Stress','Kelly']\n",
    "# column_to_analyze = repeats_sub['CRISIS Issues - Emotional State']\n",
    "# df = repeats_sub"
   ]
  },
  {
   "cell_type": "code",
   "execution_count": null,
   "metadata": {},
   "outputs": [],
   "source": [
    "# imminent_risk_function(df, column_to_analyze, master_list)"
   ]
  },
  {
   "cell_type": "code",
   "execution_count": null,
   "metadata": {},
   "outputs": [],
   "source": [
    "# def checkIfValuesExists1(df, master_list):\n",
    "#     ''' Check if given elements exists in dictionary or not.\n",
    "#         It returns a dictionary of elements as key and thier existence value as bool'''\n",
    "#     resultDict = {}\n",
    "#     # Iterate over the list of elements one by one\n",
    "#     for elem in master_list:\n",
    "#         # Check if the element exists in dataframe values\n",
    "#         if elem in df.values:\n",
    "#             resultDict[elem] = True\n",
    "#         else:\n",
    "#             resultDict[elem] = False\n",
    "#     # Returns a dictionary of values & thier existence flag        \n",
    "#     return resultDict"
   ]
  },
  {
   "cell_type": "code",
   "execution_count": null,
   "metadata": {},
   "outputs": [],
   "source": [
    "# checkIfValuesExists1(df, master_list)"
   ]
  },
  {
   "cell_type": "code",
   "execution_count": null,
   "metadata": {},
   "outputs": [],
   "source": []
  },
  {
   "cell_type": "code",
   "execution_count": null,
   "metadata": {},
   "outputs": [],
   "source": []
  },
  {
   "cell_type": "markdown",
   "metadata": {},
   "source": [
    "### Practice writing functions and for loops with Abby"
   ]
  },
  {
   "cell_type": "code",
   "execution_count": null,
   "metadata": {},
   "outputs": [],
   "source": [
    "numbers = [0,1,2,3,4]"
   ]
  },
  {
   "cell_type": "code",
   "execution_count": null,
   "metadata": {},
   "outputs": [],
   "source": [
    "# function to multiply number times value\n",
    "# def begins the function by defining it then function name then (parameters) ended by :\n",
    "# result = what you want the function to do\n",
    "# return tells the function to stop then tell the function what you want outputted from the function\n",
    "def multiply_function(current_number, multiply_value):\n",
    "    answer = current_number * multiply_value\n",
    "    return answer"
   ]
  },
  {
   "cell_type": "code",
   "execution_count": null,
   "metadata": {
    "scrolled": true
   },
   "outputs": [],
   "source": [
    "multiply_function(0,2)"
   ]
  },
  {
   "cell_type": "code",
   "execution_count": null,
   "metadata": {},
   "outputs": [],
   "source": [
    "multiply_function(5,2)"
   ]
  },
  {
   "cell_type": "code",
   "execution_count": null,
   "metadata": {},
   "outputs": [],
   "source": [
    "# defining \"multiply_value\" seperatly is easier for others to understand without reading prior functions\n",
    "sum_of_answers = []\n",
    "for number in numbers:\n",
    "    multiply_value = 2\n",
    "    answer = multiply_function(number, multiply_value)\n",
    "    sum_of_answers.append(answer)\n",
    "\n",
    "# # alternative way where you're not defining the \"multiply_value\"\n",
    "# sum_of_answers = []\n",
    "# for number in numbers:\n",
    "#     answer = multiply_function(number, 2)\n",
    "#     sum_of_answers.append(answer)"
   ]
  },
  {
   "cell_type": "code",
   "execution_count": null,
   "metadata": {},
   "outputs": [],
   "source": [
    "print(sum_of_answers)"
   ]
  },
  {
   "cell_type": "code",
   "execution_count": null,
   "metadata": {},
   "outputs": [],
   "source": []
  }
 ],
 "metadata": {
  "kernelspec": {
   "display_name": "Python 3",
   "language": "python",
   "name": "python3"
  },
  "language_info": {
   "codemirror_mode": {
    "name": "ipython",
    "version": 3
   },
   "file_extension": ".py",
   "mimetype": "text/x-python",
   "name": "python",
   "nbconvert_exporter": "python",
   "pygments_lexer": "ipython3",
   "version": "3.8.3"
  }
 },
 "nbformat": 4,
 "nbformat_minor": 4
}
